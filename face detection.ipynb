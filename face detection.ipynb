{
 "cells": [
  {
   "cell_type": "code",
   "execution_count": 1,
   "metadata": {},
   "outputs": [],
   "source": [
    "import cv2"
   ]
  },
  {
   "cell_type": "code",
   "execution_count": 2,
   "metadata": {},
   "outputs": [],
   "source": [
    "video=cv2.VideoCapture(0)\n",
    "#fourcc = cv2.VideoWriter_fourcc(*'xvid')\n",
    "\n",
    "#out= cv2.VideoWriter(\"output.avi\",fourcc,20,(640,480))\n",
    "face_cascade=cv2.CascadeClassifier(\"haarcascade_frontalface_default.xml\")\n",
    "\n",
    "while True:\n",
    "    ret,frames=video.read()\n",
    "    gray = cv2.cvtColor(frames,cv2.COLOR_BGR2GRAY)\n",
    "    \n",
    "    faces=face_cascade.detectMultiScale(gray,1.3,5)\n",
    "    for (x,y,w,h) in faces:\n",
    "        cv2.rectangle(frames,(x,y),(x+w,y+h),(255,0,0),5)\n",
    "        roi_gray=gray[y:y+h,x:x+w]\n",
    "        roi_color=frames[y:y+h,x:x+w]\n",
    "    \n",
    "    \n",
    "    cv2.imshow(\"first\",gray)\n",
    "    cv2.imshow(\"second\",frames)\n",
    " #   out.write(img)\n",
    "    if cv2.waitKey(1) & 0xFF== ord('q'):\n",
    "        break\n",
    "    \n",
    "video.release()\n",
    "#out.release()\n",
    "\n",
    "cv2.destroyAllWindows()\n",
    "\n"
   ]
  },
  {
   "cell_type": "code",
   "execution_count": null,
   "metadata": {},
   "outputs": [],
   "source": []
  }
 ],
 "metadata": {
  "kernelspec": {
   "display_name": "Python 3",
   "language": "python",
   "name": "python3"
  },
  "language_info": {
   "codemirror_mode": {
    "name": "ipython",
    "version": 3
   },
   "file_extension": ".py",
   "mimetype": "text/x-python",
   "name": "python",
   "nbconvert_exporter": "python",
   "pygments_lexer": "ipython3",
   "version": "3.7.3"
  }
 },
 "nbformat": 4,
 "nbformat_minor": 2
}
